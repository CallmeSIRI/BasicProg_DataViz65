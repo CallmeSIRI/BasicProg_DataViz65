{
  "nbformat": 4,
  "nbformat_minor": 0,
  "metadata": {
    "colab": {
      "name": "Recap 1-3 Quiz1.ipynb",
      "provenance": [],
      "authorship_tag": "ABX9TyOfcQSl6Mb4J4G3Zv2MAb+d",
      "include_colab_link": true
    },
    "kernelspec": {
      "name": "python3",
      "display_name": "Python 3"
    },
    "language_info": {
      "name": "python"
    }
  },
  "cells": [
    {
      "cell_type": "markdown",
      "metadata": {
        "id": "view-in-github",
        "colab_type": "text"
      },
      "source": [
        "<a href=\"https://colab.research.google.com/github/CallmeSIRI/BasicProg_DataViz65/blob/main/Recap_1_3_Quiz1.ipynb\" target=\"_parent\"><img src=\"https://colab.research.google.com/assets/colab-badge.svg\" alt=\"Open In Colab\"/></a>"
      ]
    },
    {
      "cell_type": "code",
      "execution_count": null,
      "metadata": {
        "id": "gLLONore3pat"
      },
      "outputs": [],
      "source": [
        "\n",
        "Quiz 1\n",
        "\n",
        "คำนวณเวลาเป็นความต่างของเวลาเป็นวินาทีของช่วงเวลาต่อไปนี้โดยใช้คำสั่ง split() ช่วย และ print ออกมาให้สวยงาม\n",
        "\n",
        "09:11:50 - 12:30:15\n",
        "13:41:07 - 20:00:18\n",
        "21:30:15 - 00:00:00\n",
        "00:00:00 - 23:59:59"
      ]
    },
    {
      "cell_type": "code",
      "source": [
        "a1='09:11:50'\n",
        "a1_sp=a1.split(':')\n",
        "print(a1_sp)\n",
        "ans1=int(a1_sp[0])*3600+int (a1_sp[1])*60+int (a1_sp[2])\n",
        "a2='12:30:15'\n",
        "a2_sp=a2.split(':')\n",
        "print(a2_sp)\n",
        "ans2=int(a2_sp[0])*3600+int (a2_sp[1])*60+int (a2_sp[2])\n",
        "print (f'ความต่างของเวลา {a1} และ {a2} เป็นวินาที เท่ากับ {ans2-ans1} วินาที' )"
      ],
      "metadata": {
        "colab": {
          "base_uri": "https://localhost:8080/"
        },
        "id": "U9FDjdQESEnU",
        "outputId": "92401101-df80-4d71-d997-a4c3be369001"
      },
      "execution_count": 37,
      "outputs": [
        {
          "output_type": "stream",
          "name": "stdout",
          "text": [
            "['09', '11', '50']\n",
            "['12', '30', '15']\n",
            "ความต่างของเวลา 09:11:50 และ 12:30:15 เป็นวินาที เท่ากับ 11905 วินาที\n"
          ]
        }
      ]
    },
    {
      "cell_type": "code",
      "source": [
        "b1='13:41:07'\n",
        "b1_sp=a1.split(':')\n",
        "print(b1_sp)\n",
        "ans1=int(b1_sp[0])*3600+int (b1_sp[1])*60+int (b1_sp[2])\n",
        "b2='20:00:18'\n",
        "b2_sp=b2.split(':')\n",
        "print(b2_sp)\n",
        "ans2=int(b2_sp[0])*3600+int (b2_sp[1])*60+int (b2_sp[2])\n",
        "print(f'ความต่างของเวลา {b1} และ {b2} เป็นวินาที เท่ากับ {ans2-ans1} วินาที' )"
      ],
      "metadata": {
        "colab": {
          "base_uri": "https://localhost:8080/"
        },
        "id": "8_x_p8pGKVKz",
        "outputId": "720251a8-4a6e-45c4-82bd-ca7ea438e99b"
      },
      "execution_count": 38,
      "outputs": [
        {
          "output_type": "stream",
          "name": "stdout",
          "text": [
            "['13', '41', '07']\n",
            "['20', '00', '18']\n",
            "ความต่างของเวลา 13:41:07 และ 20:00:18 เป็นวินาที เท่ากับ 22751 วินาที\n"
          ]
        }
      ]
    },
    {
      "cell_type": "code",
      "source": [
        "c1='21:30:15'\n",
        "c1_sp=c1.split(':')\n",
        "print(c1_sp)\n",
        "ans1=int(c1_sp[0])*3600+int (c1_sp[1])*60+int (c1_sp[2])\n",
        "c2='24:00:00'\n",
        "c2_sp=c2.split(':')\n",
        "print(c2_sp)\n",
        "ans2=int(c2_sp[0])*3600+int (c2_sp[1])*60+int (c2_sp[2])\n",
        "print(f'ความต่างของเวลา {c1} และ {c2} เป็นวินาที เท่ากับ {ans2-ans1} วินาที' )"
      ],
      "metadata": {
        "colab": {
          "base_uri": "https://localhost:8080/"
        },
        "id": "ToGmDDZ9SReE",
        "outputId": "76ee2562-d16c-48f1-f761-58b816c8c374"
      },
      "execution_count": 41,
      "outputs": [
        {
          "output_type": "stream",
          "name": "stdout",
          "text": [
            "['21', '30', '15']\n",
            "['24', '00', '00']\n",
            "ความต่างของเวลา 21:30:15 และ 24:00:00 เป็นวินาที เท่ากับ 8985 วินาที\n"
          ]
        }
      ]
    },
    {
      "cell_type": "code",
      "source": [
        "d1='00:00:00'\n",
        "d1_sp=d1.split(':')\n",
        "print(d1_sp)\n",
        "ans1=int(d1_sp[0])*3600+int (d1_sp[1])*60+int (d1_sp[2])\n",
        "d2='23:59:59'\n",
        "d2_sp=d2.split(':')\n",
        "print(d2_sp)\n",
        "ans2=int(d2_sp[0])*3600+int (d2_sp[1])*60+int (d2_sp[2])\n",
        "print(f'ความต่างของเวลา {d1} และ {d2} เป็นวินาที เท่ากับ {ans2-ans1} วินาที' )"
      ],
      "metadata": {
        "colab": {
          "base_uri": "https://localhost:8080/"
        },
        "id": "lpdg8Oh0SVy2",
        "outputId": "cf2bef95-efa7-4a5f-cdce-f3f285cb758d"
      },
      "execution_count": 40,
      "outputs": [
        {
          "output_type": "stream",
          "name": "stdout",
          "text": [
            "['00', '00', '00']\n",
            "['23', '59', '59']\n",
            "ความต่างของเวลา 00:00:00 และ 23:59:59 เป็นวินาที เท่ากับ 86399 วินาที\n"
          ]
        }
      ]
    }
  ]
}