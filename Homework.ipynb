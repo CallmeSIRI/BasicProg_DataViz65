{
  "nbformat": 4,
  "nbformat_minor": 0,
  "metadata": {
    "colab": {
      "name": "Homework.ipynb",
      "provenance": [],
      "authorship_tag": "ABX9TyNpXsttrs8Ox333oW9UYBRI",
      "include_colab_link": true
    },
    "kernelspec": {
      "name": "python3",
      "display_name": "Python 3"
    },
    "language_info": {
      "name": "python"
    }
  },
  "cells": [
    {
      "cell_type": "markdown",
      "metadata": {
        "id": "view-in-github",
        "colab_type": "text"
      },
      "source": [
        "<a href=\"https://colab.research.google.com/github/CallmeSIRI/BasicProg_DataViz65/blob/main/Homework.ipynb\" target=\"_parent\"><img src=\"https://colab.research.google.com/assets/colab-badge.svg\" alt=\"Open In Colab\"/></a>"
      ]
    },
    {
      "cell_type": "markdown",
      "source": [
        "HW1 \n",
        "\n",
        "เขียน function \n",
        "แสดงความต่างของเวลา (Quiz1)\n",
        "โดย input อยู่ในรูปแบบ ```'09:11:50 - 12:30:15'```\n",
        "\n",
        "และทดลองรัน\n",
        "\n",
        "* '09:11:50 - 12:30:15'\n",
        "* '13:41:07 - 20:00:18'\n",
        "* '00:00:00 - 23:59:59'\n"
      ],
      "metadata": {
        "id": "CHfi7dwMuxEs"
      }
    },
    {
      "cell_type": "code",
      "execution_count": 1,
      "metadata": {
        "colab": {
          "base_uri": "https://localhost:8080/"
        },
        "id": "UqzvD5nkuwEL",
        "outputId": "541c2cec-bf52-4685-8a11-d794caf85dc3"
      },
      "outputs": [
        {
          "output_type": "stream",
          "name": "stdout",
          "text": [
            "done!\n"
          ]
        }
      ],
      "source": [
        "def time_sec(T1,T2):\n",
        "  sp_T1 = T1.split(':')\n",
        "  sp_T2 = T2.split(':')\n",
        "  a = (int(sp_T1[0])*60*60)+(int(sp_T1[1])*60)+int(sp_T1[2])\n",
        "  b = (int(sp_T2[0])*60*60)+(int(sp_T2[1])*60)+int(sp_T2[2])\n",
        "  X = b-a\n",
        "  return X\n",
        "\n",
        "print('done!')"
      ]
    },
    {
      "cell_type": "code",
      "source": [
        "A = time_sec('09:11:50','12:30:15')\n",
        "print(f'ความต่างของเวลา 09:11:50 และ 12:30:15 เป็นวินาที เท่ากับ {A} วินาที')"
      ],
      "metadata": {
        "colab": {
          "base_uri": "https://localhost:8080/"
        },
        "id": "eQYB1H6fu3OH",
        "outputId": "0b8329f9-d0c3-4343-87d2-a70e8aaedbf4"
      },
      "execution_count": 13,
      "outputs": [
        {
          "output_type": "stream",
          "name": "stdout",
          "text": [
            "ความต่างของเวลา 09:11:50 และ 12:30:15 เป็นวินาที เท่ากับ 11905 วินาที\n"
          ]
        }
      ]
    },
    {
      "cell_type": "code",
      "source": [
        "B = time_sec('13:41:07','20:00:18')\n",
        "print(f'ความต่างของเวลา 13:41:07 และ 20:00:18 เป็นวินาที เท่ากับ {B} วินาที')"
      ],
      "metadata": {
        "colab": {
          "base_uri": "https://localhost:8080/"
        },
        "id": "o51wYslKvFrB",
        "outputId": "69fde327-a55c-41b6-f597-f94e8cda6904"
      },
      "execution_count": 14,
      "outputs": [
        {
          "output_type": "stream",
          "name": "stdout",
          "text": [
            "ความต่างของเวลา 13:41:07 และ 20:00:18 เป็นวินาที เท่ากับ 22751 วินาที\n"
          ]
        }
      ]
    },
    {
      "cell_type": "code",
      "source": [
        "C = time_sec('00:00:00','23:59:59')\n",
        "print(f'ความต่างของเวลา 00:00:00 และ 23:59:59 เป็นวินาที เท่ากับ {C} วินาที')"
      ],
      "metadata": {
        "colab": {
          "base_uri": "https://localhost:8080/"
        },
        "id": "d0lTcgpNvL8B",
        "outputId": "4d667be9-3efe-4099-e4ce-c345566b60f0"
      },
      "execution_count": 15,
      "outputs": [
        {
          "output_type": "stream",
          "name": "stdout",
          "text": [
            "ความต่างของเวลา 00:00:00 และ 23:59:59 เป็นวินาที เท่ากับ 86399 วินาที\n"
          ]
        }
      ]
    },
    {
      "cell_type": "code",
      "source": [
        ""
      ],
      "metadata": {
        "id": "yzXHI1NWvSJH"
      },
      "execution_count": null,
      "outputs": []
    }
  ]
}